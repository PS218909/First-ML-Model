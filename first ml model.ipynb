{
 "cells": [
  {
   "cell_type": "code",
   "execution_count": 37,
   "metadata": {},
   "outputs": [],
   "source": [
    "# importing libary\n",
    "import numpy as np\n",
    "import pandas as pd\n",
    "import matplotlib.pyplot as plt"
   ]
  },
  {
   "cell_type": "code",
   "execution_count": 38,
   "metadata": {},
   "outputs": [],
   "source": [
    "# reading data from teh dataset file\n",
    "data = pd.read_csv(\"dataset.csv\", index_col=False)"
   ]
  },
  {
   "cell_type": "code",
   "execution_count": 39,
   "metadata": {},
   "outputs": [
    {
     "data": {
      "text/html": [
       "<div>\n",
       "<style scoped>\n",
       "    .dataframe tbody tr th:only-of-type {\n",
       "        vertical-align: middle;\n",
       "    }\n",
       "\n",
       "    .dataframe tbody tr th {\n",
       "        vertical-align: top;\n",
       "    }\n",
       "\n",
       "    .dataframe thead th {\n",
       "        text-align: right;\n",
       "    }\n",
       "</style>\n",
       "<table border=\"1\" class=\"dataframe\">\n",
       "  <thead>\n",
       "    <tr style=\"text-align: right;\">\n",
       "      <th></th>\n",
       "      <th>Humidity</th>\n",
       "      <th>Temperature</th>\n",
       "    </tr>\n",
       "  </thead>\n",
       "  <tbody>\n",
       "    <tr>\n",
       "      <th>0</th>\n",
       "      <td>0.596606</td>\n",
       "      <td>13.182462</td>\n",
       "    </tr>\n",
       "    <tr>\n",
       "      <th>1</th>\n",
       "      <td>0.656572</td>\n",
       "      <td>8.156680</td>\n",
       "    </tr>\n",
       "    <tr>\n",
       "      <th>2</th>\n",
       "      <td>0.141856</td>\n",
       "      <td>32.713142</td>\n",
       "    </tr>\n",
       "    <tr>\n",
       "      <th>3</th>\n",
       "      <td>0.757360</td>\n",
       "      <td>6.282035</td>\n",
       "    </tr>\n",
       "    <tr>\n",
       "      <th>4</th>\n",
       "      <td>0.613228</td>\n",
       "      <td>12.675158</td>\n",
       "    </tr>\n",
       "    <tr>\n",
       "      <th>...</th>\n",
       "      <td>...</td>\n",
       "      <td>...</td>\n",
       "    </tr>\n",
       "    <tr>\n",
       "      <th>295</th>\n",
       "      <td>0.615160</td>\n",
       "      <td>3.892790</td>\n",
       "    </tr>\n",
       "    <tr>\n",
       "      <th>296</th>\n",
       "      <td>0.524208</td>\n",
       "      <td>15.616094</td>\n",
       "    </tr>\n",
       "    <tr>\n",
       "      <th>297</th>\n",
       "      <td>0.647608</td>\n",
       "      <td>4.596190</td>\n",
       "    </tr>\n",
       "    <tr>\n",
       "      <th>298</th>\n",
       "      <td>0.410353</td>\n",
       "      <td>18.160583</td>\n",
       "    </tr>\n",
       "    <tr>\n",
       "      <th>299</th>\n",
       "      <td>0.545477</td>\n",
       "      <td>12.561416</td>\n",
       "    </tr>\n",
       "  </tbody>\n",
       "</table>\n",
       "<p>300 rows × 2 columns</p>\n",
       "</div>"
      ],
      "text/plain": [
       "     Humidity  Temperature\n",
       "0    0.596606    13.182462\n",
       "1    0.656572     8.156680\n",
       "2    0.141856    32.713142\n",
       "3    0.757360     6.282035\n",
       "4    0.613228    12.675158\n",
       "..        ...          ...\n",
       "295  0.615160     3.892790\n",
       "296  0.524208    15.616094\n",
       "297  0.647608     4.596190\n",
       "298  0.410353    18.160583\n",
       "299  0.545477    12.561416\n",
       "\n",
       "[300 rows x 2 columns]"
      ]
     },
     "execution_count": 39,
     "metadata": {},
     "output_type": "execute_result"
    }
   ],
   "source": [
    "# Converting data to data frame\n",
    "df = pd.DataFrame(data)\n",
    "df"
   ]
  },
  {
   "cell_type": "code",
   "execution_count": 40,
   "metadata": {},
   "outputs": [],
   "source": [
    "# Splitting data into training and test data set.\n",
    "l_80 = int(0.8*len(df))\n",
    "data_train = df.iloc[:l_80]\n",
    "data_test = df.iloc[l_80:]"
   ]
  },
  {
   "cell_type": "code",
   "execution_count": 41,
   "metadata": {},
   "outputs": [],
   "source": [
    "# Converting data into numpy array and storing them into their respective axis\n",
    "x_train, y_train = np.array(data_train.Humidity), np.array(data_train.Temperature)\n",
    "x_test, y_test = np.array(data_test.Humidity), np.array(data_test.Temperature)"
   ]
  },
  {
   "cell_type": "code",
   "execution_count": 42,
   "metadata": {},
   "outputs": [
    {
     "data": {
      "image/png": "[encoded data removed]",
      "text/plain": [
       "<Figure size 432x288 with 1 Axes>"
      ]
     },
     "metadata": {
      "needs_background": "light"
     },
     "output_type": "display_data"
    }
   ],
   "source": [
    "# ploting train and test data\n",
    "plt.scatter(x_train, y_train, marker=\"x\", color=\"orange\")\n",
    "plt.scatter(x_test, y_test, marker=\"+\", color=\"red\")\n",
    "plt.show()"
   ]
  },
  {
   "cell_type": "markdown",
   "metadata": {},
   "source": [
    "# Linear regression using gradient descent method\n",
    "resource for formula's used in this: https://towardsdatascience.com/linear-regression-using-gradient-descent-97a6c8700931"
   ]
  },
  {
   "cell_type": "code",
   "execution_count": 43,
   "metadata": {},
   "outputs": [],
   "source": [
    "# Creating theta\n",
    "np.random.seed(2)\n",
    "theta = np.random.rand(2, 1)\n",
    "# theta[0] is intercept and theta[1] = slpoe"
   ]
  },
  {
   "cell_type": "code",
   "execution_count": 44,
   "metadata": {},
   "outputs": [],
   "source": [
    "# Creating Hypothesis\n",
    "def hypothesis(x, theta):\n",
    "    # y = slope*x + intercept\n",
    "    return theta[1] * x + theta[0]"
   ]
  },
  {
   "cell_type": "code",
   "execution_count": 45,
   "metadata": {},
   "outputs": [],
   "source": [
    "# Creating a function to draw\n",
    "def draw(x, y, theta):\n",
    "    plt.scatter(x, y)\n",
    "    axes = plt.gca()\n",
    "    x_val = np.array(axes.get_xlim())\n",
    "    y_val = hypothesis(x_val, theta)\n",
    "    plt.plot(x_val, y_val, \"--\", color=\"orange\")"
   ]
  },
  {
   "cell_type": "code",
   "execution_count": 46,
   "metadata": {},
   "outputs": [
    {
     "data": {
      "image/png": "[encoded data removed]",
      "text/plain": [
       "<Figure size 432x288 with 1 Axes>"
      ]
     },
     "metadata": {
      "needs_background": "light"
     },
     "output_type": "display_data"
    }
   ],
   "source": [
    "draw(x_train, y_train, theta)"
   ]
  },
  {
   "cell_type": "code",
   "execution_count": 47,
   "metadata": {},
   "outputs": [],
   "source": [
    "# creating loss function\n",
    "def loss(x, y, theta):\n",
    "    m = len(x)\n",
    "    return (1/m) * np.sum((y-hypothesis(x, theta))**2)"
   ]
  },
  {
   "cell_type": "code",
   "execution_count": 48,
   "metadata": {},
   "outputs": [
    {
     "data": {
      "text/plain": [
       "303.91795388796817"
      ]
     },
     "execution_count": 48,
     "metadata": {},
     "output_type": "execute_result"
    }
   ],
   "source": [
    "loss(x_test, y_test, theta)"
   ]
  },
  {
   "cell_type": "code",
   "execution_count": 49,
   "metadata": {},
   "outputs": [],
   "source": [
    "# Creating gradient_descent\n",
    "def gradient_descent(x, y, theta, a = 0.01):\n",
    "    _loss = loss(x, y, theta)\n",
    "    old = 1\n",
    "    new = 0\n",
    "    while old != new:\n",
    "        old = _loss\n",
    "        m = len(x)\n",
    "        theta_0 = theta[0] - a * ((-2/m) * np.sum(y-hypothesis(x, theta)))\n",
    "        theta_1 = theta[1] - a * ((-2/m) * np.sum((x* (y-hypothesis(x, theta)))))\n",
    "        theta[0], theta[1] = theta_0, theta_1\n",
    "        _loss = loss(x, y, theta)\n",
    "        new = _loss"
   ]
  },
  {
   "cell_type": "code",
   "execution_count": 50,
   "metadata": {},
   "outputs": [
    {
     "data": {
      "image/png": "[encoded data removed]",
      "text/plain": [
       "<Figure size 432x288 with 1 Axes>"
      ]
     },
     "metadata": {
      "needs_background": "light"
     },
     "output_type": "display_data"
    }
   ],
   "source": [
    "# running gradient_descent function and ploting the graph after the changes\n",
    "gradient_descent(x_train, y_train, theta)\n",
    "draw(x_train, y_train, theta)"
   ]
  },
  {
   "cell_type": "code",
   "execution_count": 51,
   "metadata": {},
   "outputs": [],
   "source": [
    "# error function\n",
    "def error(x, y, slope, intercept):\n",
    "    predict = slope*x+intercept\n",
    "    return abs(y-predict)"
   ]
  },
  {
   "cell_type": "code",
   "execution_count": 52,
   "metadata": {},
   "outputs": [
    {
     "data": {
      "text/plain": [
       "array([4.40948896])"
      ]
     },
     "execution_count": 52,
     "metadata": {},
     "output_type": "execute_result"
    }
   ],
   "source": [
    "# calculating average error\n",
    "m = len(x_test)\n",
    "s = 0\n",
    "for i in range(m):\n",
    "    s += error(x_test[i], y_test[i], theta[1], theta[0])\n",
    "s/m"
   ]
  },
  {
   "cell_type": "markdown",
   "metadata": {},
   "source": [
    "# Linear regression using numpy"
   ]
  },
  {
   "cell_type": "code",
   "execution_count": 53,
   "metadata": {},
   "outputs": [
    {
     "data": {
      "text/plain": [
       "(-57.454656012914, 45.63529660850467)"
      ]
     },
     "execution_count": 53,
     "metadata": {},
     "output_type": "execute_result"
    }
   ],
   "source": [
    "# numpu.polyfit returns the slope and intercept of the line\n",
    "slope, intercept = np.polyfit(x_train, y_train, 1)\n",
    "slope, intercept"
   ]
  },
  {
   "cell_type": "code",
   "execution_count": 54,
   "metadata": {},
   "outputs": [
    {
     "data": {
      "image/png": "[encoded data removed]",
      "text/plain": [
       "<Figure size 432x288 with 1 Axes>"
      ]
     },
     "metadata": {
      "needs_background": "light"
     },
     "output_type": "display_data"
    }
   ],
   "source": [
    "# ploting the slope\n",
    "y = slope * x_train + intercept\n",
    "plt.scatter(x_train, y_train)\n",
    "plt.plot(x_train, y, \"--\", color='orange')\n",
    "plt.show()"
   ]
  },
  {
   "cell_type": "code",
   "execution_count": 55,
   "metadata": {},
   "outputs": [],
   "source": [
    "# error function\n",
    "def error(x, y, slope, intercept):\n",
    "    predict = slope*x+intercept\n",
    "    return abs(y-predict)"
   ]
  },
  {
   "cell_type": "code",
   "execution_count": 56,
   "metadata": {},
   "outputs": [
    {
     "data": {
      "text/plain": [
       "4.409488576743114"
      ]
     },
     "execution_count": 56,
     "metadata": {},
     "output_type": "execute_result"
    }
   ],
   "source": [
    "# calculating average error\n",
    "s = 0\n",
    "for i in range(len(x_test)):\n",
    "    s+=error(x_test[i], y_test[i], slope, intercept)\n",
    "s/len(x_test)"
   ]
  }
 ],
 "metadata": {
  "kernelspec": {
   "display_name": "Python 3.10.1 64-bit",
   "language": "python",
   "name": "python3"
  },
  "language_info": {
   "codemirror_mode": {
    "name": "ipython",
    "version": 3
   },
   "file_extension": ".py",
   "mimetype": "text/x-python",
   "name": "python",
   "nbconvert_exporter": "python",
   "pygments_lexer": "ipython3",
   "version": "3.10.1"
  },
  "orig_nbformat": 4,
  "vscode": {
   "interpreter": {
    "hash": "636b2e4c25e04f16a9a47cf85a3577455a08be7dec491514b39ecb21dc1975aa"
   }
  }
 },
 "nbformat": 4,
 "nbformat_minor": 2
}
